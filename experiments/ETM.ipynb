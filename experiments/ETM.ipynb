{
 "cells": [
  {
   "cell_type": "code",
   "execution_count": 1,
   "id": "fa273e6c-550f-4f1d-94c1-608a04eba827",
   "metadata": {
    "scrolled": true
   },
   "outputs": [],
   "source": [
    "#!pip install embedded-topic-model"
   ]
  },
  {
   "cell_type": "code",
   "execution_count": 2,
   "id": "7e00e188-69c0-4b18-be03-1a4960c14c72",
   "metadata": {},
   "outputs": [],
   "source": [
    "import random\n",
    "import pickle\n",
    "from sklearn.feature_extraction.text import CountVectorizer\n",
    "\n",
    "from gensim.models import CoherenceModel\n",
    "from gensim.corpora.dictionary import Dictionary\n",
    "from gensim import corpora\n",
    "from embedded_topic_model.models.etm import ETM\n",
    "from gensim.models.fasttext import load_facebook_vectors\n",
    "import numpy as np\n",
    "from octis.evaluation_metrics.diversity_metrics import TopicDiversity, InvertedRBO\n",
    "import IPython.display as ipd\n",
    "\n",
    "from collections import Counter\n",
    "import os\n",
    "import gc\n",
    "import time\n",
    "import warnings\n",
    "warnings.filterwarnings(action='ignore')"
   ]
  },
  {
   "cell_type": "markdown",
   "id": "d46326bd-04d0-4b12-8ba7-d810fdc420ff",
   "metadata": {},
   "source": [
    "## Data Prep"
   ]
  },
  {
   "cell_type": "code",
   "execution_count": 3,
   "id": "aa6a018b-bd79-4535-a5a5-d21121b14f2d",
   "metadata": {},
   "outputs": [],
   "source": [
    "with open('./pickled/banfake_tokenized.pickle', 'rb') as f:\n",
    "    docs = pickle.load(f)\n",
    "\n",
    "num_topics = 12\n",
    "random.shuffle(docs)"
   ]
  },
  {
   "cell_type": "code",
   "execution_count": 4,
   "id": "0d0dded0-e469-4f7d-8de1-9fbe0a0b8e7a",
   "metadata": {},
   "outputs": [],
   "source": [
    "#########################################################################################################################################"
   ]
  },
  {
   "cell_type": "code",
   "execution_count": 5,
   "id": "9648377a-373b-4ef6-b0e9-513b8be714f4",
   "metadata": {},
   "outputs": [],
   "source": [
    "def evaluate_topic_words(topic_words, texts):\n",
    "    \n",
    "    dictionary = Dictionary(texts)\n",
    "\n",
    "    results = {}\n",
    "    \n",
    "    if texts and dictionary:\n",
    "        \n",
    "        coherence_c_v = CoherenceModel(topics=topic_words, texts=texts, dictionary=dictionary, coherence='c_v').get_coherence()\n",
    "        coherence_npmi = CoherenceModel(topics=topic_words, texts=texts, dictionary=dictionary, coherence='c_npmi').get_coherence()\n",
    "        \n",
    "        results['coherence_c_v'] = coherence_c_v\n",
    "        results['coherence_npmi'] = coherence_npmi\n",
    "    \n",
    "    octis = {\n",
    "        'topics': topic_words  \n",
    "    }\n",
    "    \n",
    "    td = TopicDiversity(topk=10)\n",
    "    irbo = InvertedRBO(topk=10)\n",
    "    \n",
    "    results['topic_diversity'] = td.score(octis)\n",
    "    results['IRBO'] = irbo.score(octis)\n",
    "    \n",
    "    return results"
   ]
  },
  {
   "cell_type": "markdown",
   "id": "ce141068-4484-42eb-82e3-ead77eb87386",
   "metadata": {},
   "source": [
    "## ETM"
   ]
  },
  {
   "cell_type": "code",
   "execution_count": 6,
   "id": "74ce767d-54c7-474f-acf3-d13e485f5384",
   "metadata": {},
   "outputs": [],
   "source": [
    "dictionary = Dictionary(docs)\n",
    "dictionary.filter_extremes(no_below=3, no_above=0.8)\n",
    "\n",
    "vocab = [dictionary[id] for id in range(len(dictionary))]\n",
    "corpus = [dictionary.doc2bow(doc) for doc in docs]\n",
    "\n",
    "tokens_list = [[token_id for token_id, count in doc] for doc in corpus]\n",
    "counts_list = [[count for token_id, count in doc] for doc in corpus]\n",
    "\n",
    "tokens_np = np.array([np.array(doc, dtype=np.int64) for doc in tokens_list], dtype=object)  \n",
    "counts_np = np.array([np.array(cnt, dtype=np.int64) for cnt in counts_list], dtype=object)  \n",
    "\n",
    "train_data = {  \n",
    "    \"tokens\": tokens_np,  \n",
    "    \"counts\": counts_np  \n",
    "}  "
   ]
  },
  {
   "cell_type": "code",
   "execution_count": null,
   "id": "92deebcc-8e09-42a1-8f6f-0e76a7b53950",
   "metadata": {},
   "outputs": [],
   "source": [
    "ft = load_facebook_vectors(\"/home/farhana/bnlp/models/fasttext_cc.bn.300.bin\")"
   ]
  },
  {
   "cell_type": "code",
   "execution_count": null,
   "id": "91e9fdf2-7bd2-447a-bcd2-fffbc236d47b",
   "metadata": {},
   "outputs": [],
   "source": [
    "start_time = time.time()\n",
    "\n",
    "etm = ETM(vocab, ft, num_topics=num_topics)\n",
    "etm.fit(train_data)\n",
    "\n",
    "end_time = time.time()\n",
    "runtime = end_time - start_time\n",
    "\n",
    "topic_words = etm.get_topics()\n",
    "topic_words"
   ]
  },
  {
   "cell_type": "code",
   "execution_count": null,
   "id": "7934aa26-336f-4891-b9fa-257183c1df55",
   "metadata": {},
   "outputs": [],
   "source": [
    "results = evaluate_topic_words(topic_words, docs)\n",
    "results['runtime'] = runtime\n",
    "results"
   ]
  },
  {
   "cell_type": "code",
   "execution_count": null,
   "id": "d7e86d7c-8ca7-46e6-86a9-f3ec275ef081",
   "metadata": {},
   "outputs": [],
   "source": [
    "duration = 2  \n",
    "sampling_rate = 44100\n",
    "frequency = 440.0 \n",
    "t = np.linspace(0, duration, int(sampling_rate * duration), False)\n",
    "wave = 0.5 * np.sin(2 * np.pi * frequency * t)\n",
    "\n",
    "audio = ipd.Audio(wave, rate=sampling_rate, autoplay=True)\n",
    "display(audio)"
   ]
  },
  {
   "cell_type": "code",
   "execution_count": null,
   "id": "90cd9e95-50af-40a0-96e6-d64f550358b8",
   "metadata": {},
   "outputs": [],
   "source": []
  }
 ],
 "metadata": {
  "kernelspec": {
   "display_name": "Python 3 (ipykernel)",
   "language": "python",
   "name": "python3"
  },
  "language_info": {
   "codemirror_mode": {
    "name": "ipython",
    "version": 3
   },
   "file_extension": ".py",
   "mimetype": "text/x-python",
   "name": "python",
   "nbconvert_exporter": "python",
   "pygments_lexer": "ipython3",
   "version": "3.10.14"
  }
 },
 "nbformat": 4,
 "nbformat_minor": 5
}
